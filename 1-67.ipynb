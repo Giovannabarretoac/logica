{
 "cells": [
  {
   "cell_type": "code",
   "execution_count": 1,
   "id": "5728b3a4",
   "metadata": {},
   "outputs": [
    {
     "name": "stdout",
     "output_type": "stream",
     "text": [
      "O número digitado foi: dois\n"
     ]
    }
   ],
   "source": [
    "#1\n",
    "numero = input(\"Digite um número de 1 a 3: \")\n",
    "\n",
    "numeros_extenso = {\n",
    "    \"1\": \"um\",\n",
    "    \"2\": \"dois\",\n",
    "    \"3\": \"três\"\n",
    "}\n",
    "\n",
    "if numero in numeros_extenso:\n",
    "    print(f\"O número digitado foi: {numeros_extenso[numero]}\")\n",
    "else:\n",
    "    print(\"Número inválido. Por favor, digite um número entre 1 e 3.\")"
   ]
  },
  {
   "cell_type": "code",
   "execution_count": 2,
   "id": "381241f4",
   "metadata": {},
   "outputs": [
    {
     "name": "stdout",
     "output_type": "stream",
     "text": [
      "O valor é maior que 10.\n"
     ]
    }
   ],
   "source": [
    "#2\n",
    "valor_usuario = float(input(\"Insira um valor: \"))\n",
    "\n",
    "if valor_usuario > 10:\n",
    "    print(\"O valor é maior que 10.\")\n",
    "else:\n",
    "    print(\"O valor não é maior que 10.\")"
   ]
  },
  {
   "cell_type": "code",
   "execution_count": 3,
   "id": "462d3836",
   "metadata": {},
   "outputs": [
    {
     "name": "stdout",
     "output_type": "stream",
     "text": [
      "O dia correspondente é: Quarta-feira\n"
     ]
    }
   ],
   "source": [
    "#3\n",
    "codigo_dia = input(\"Insira um código de 1 a 7 (onde 1 = Domingo, 2 = Segunda, ..., 7 = Sábado): \")\n",
    "\n",
    "mapeamento_dias = {\n",
    "    \"1\": \"Domingo\",\n",
    "    \"2\": \"Segunda-feira\",\n",
    "    \"3\": \"Terça-feira\",\n",
    "    \"4\": \"Quarta-feira\",\n",
    "    \"5\": \"Quinta-feira\",\n",
    "    \"6\": \"Sexta-feira\",\n",
    "    \"7\": \"Sábado\"\n",
    "}\n",
    "\n",
    "if codigo_dia in mapeamento_dias:\n",
    "    print(f\"O dia correspondente é: {mapeamento_dias[codigo_dia]}\")\n",
    "else:\n",
    "    print(\"Código inválido. Por favor, insira um código de 1 a 7.\")\n"
   ]
  },
  {
   "cell_type": "code",
   "execution_count": 4,
   "id": "728bd5e0",
   "metadata": {},
   "outputs": [
    {
     "name": "stdout",
     "output_type": "stream",
     "text": [
      "Você selecionou a cor vermelho!\n"
     ]
    }
   ],
   "source": [
    "#4\n",
    "escolha_cor = input(\"Selecione uma cor (vermelho, verde ou azul): \").strip()\n",
    "\n",
    "if escolha_cor == \"vermelho\":\n",
    "    print(\"Você selecionou a cor vermelho!\")\n",
    "elif escolha_cor == \"verde\":\n",
    "    print(\"Você selecionou a cor verde!\")\n",
    "elif escolha_cor == \"azul\":\n",
    "    print(\"Você selecionou a cor azul!\")\n",
    "else:\n",
    "    print(\"Cor inválida. Por favor, selecione entre vermelho, verde ou azul.\")\n"
   ]
  },
  {
   "cell_type": "code",
   "execution_count": 5,
   "id": "f54f54e7",
   "metadata": {},
   "outputs": [
    {
     "name": "stdout",
     "output_type": "stream",
     "text": [
      "Ambos os valores são pares.\n"
     ]
    }
   ],
   "source": [
    "#5\n",
    "valor_a = int(input(\"Insira o primeiro valor: \"))\n",
    "valor_b = int(input(\"Insira o segundo valor: \"))\n",
    "\n",
    "if valor_a % 2 == 0 and valor_b % 2 == 0:\n",
    "    print(\"Ambos os valores são pares.\")\n",
    "else:\n",
    "    print(\"Pelo menos um dos valores não é par.\")\n"
   ]
  },
  {
   "cell_type": "code",
   "execution_count": 6,
   "id": "881c52ca",
   "metadata": {},
   "outputs": [
    {
     "name": "stdout",
     "output_type": "stream",
     "text": [
      "Resultado: 0.5\n"
     ]
    }
   ],
   "source": [
    "#6\n",
    "tipo_operacao = input(\"Selecione a operação (+, -, *, /): \").strip()\n",
    "\n",
    "primeiro_valor = float(input(\"Insira o primeiro valor: \"))\n",
    "segundo_valor = float(input(\"Insira o segundo valor: \"))\n",
    "\n",
    "if tipo_operacao == \"+\":\n",
    "    resultado_final = primeiro_valor + segundo_valor\n",
    "elif tipo_operacao == \"-\":\n",
    "    resultado_final = primeiro_valor - segundo_valor\n",
    "elif tipo_operacao == \"*\":\n",
    "    resultado_final = primeiro_valor * segundo_valor\n",
    "elif tipo_operacao == \"/\":\n",
    "    if segundo_valor != 0:\n",
    "        resultado_final = primeiro_valor / segundo_valor\n",
    "    else:\n",
    "        resultado_final = \"Erro: Divisão por zero não é permitida.\"\n",
    "else:\n",
    "    resultado_final = \"Operação inválida.\"\n",
    "\n",
    "print(f\"Resultado: {resultado_final}\")\n"
   ]
  },
  {
   "cell_type": "code",
   "execution_count": 7,
   "id": "014dd83d",
   "metadata": {},
   "outputs": [
    {
     "name": "stdout",
     "output_type": "stream",
     "text": [
      "A classificação da pontuação é: Alto\n"
     ]
    }
   ],
   "source": [
    "# atividade 7\n",
    "#7\n",
    "pontuacao = float(input(\"Insira uma pontuação de 0 a 10: \"))\n",
    "\n",
    "if 0 <= pontuacao < 4:\n",
    "    nivel = \"Baixo\"\n",
    "elif 4 <= pontuacao < 7:\n",
    "    nivel = \"Médio\"\n",
    "elif 7 <= pontuacao <= 10:\n",
    "    nivel = \"Alto\"\n",
    "else:\n",
    "    nivel = \"Pontuação inválida\"\n",
    "\n",
    "print(f\"A classificação da pontuação é: {nivel}\")\n"
   ]
  },
  {
   "cell_type": "code",
   "execution_count": 8,
   "id": "9641ee6d",
   "metadata": {},
   "outputs": [
    {
     "name": "stdout",
     "output_type": "stream",
     "text": [
      "Você está solteiro(a).\n"
     ]
    }
   ],
   "source": [
    "#8\n",
    "situacao_civil = input(\"Informe sua situação civil (solteiro, casado, divorciado, viúvo): \").strip().lower()\n",
    "\n",
    "if situacao_civil == \"solteiro\":\n",
    "    print(\"Você está solteiro(a).\")\n",
    "elif situacao_civil == \"casado\":\n",
    "    print(\"Você é casado(a)!\")\n",
    "elif situacao_civil == \"divorciado\":\n",
    "    print(\"Você está divorciado(a). Aproveite\")\n",
    "elif situacao_civil == \"viúvo\":\n",
    "    print(\"Foi jogar no vasco.\")\n",
    "else:\n",
    "    print(\"Situação civil inválida. Por favor, informe uma das opções indicadas.\")\n"
   ]
  },
  {
   "cell_type": "code",
   "execution_count": 9,
   "id": "80bfe0f0",
   "metadata": {},
   "outputs": [
    {
     "name": "stdout",
     "output_type": "stream",
     "text": [
      "O valor é ímpar.\n"
     ]
    }
   ],
   "source": [
    "#9\n",
    "valor_entrada = int(input(\"Insira um valor: \"))\n",
    "\n",
    "if valor_entrada % 2 == 0:\n",
    "    print(\"O valor é par.\")\n",
    "else:\n",
    "    print(\"O valor é ímpar.\")\n"
   ]
  },
  {
   "cell_type": "code",
   "execution_count": 10,
   "id": "8056244d",
   "metadata": {},
   "outputs": [
    {
     "name": "stdout",
     "output_type": "stream",
     "text": [
      "Você é maior de idade.\n"
     ]
    }
   ],
   "source": [
    "#10\n",
    "anos_idade = int(input(\"Informe sua idade: \"))\n",
    "\n",
    "if anos_idade >= 18:\n",
    "    print(\"Você é maior de idade.\")\n",
    "else:\n",
    "    print(\"Você é menor de idade.\")\n"
   ]
  },
  {
   "cell_type": "code",
   "execution_count": 11,
   "id": "b170dc34",
   "metadata": {},
   "outputs": [
    {
     "name": "stdout",
     "output_type": "stream",
     "text": [
      "Seja bem-vindo(a), giovanna!\n"
     ]
    }
   ],
   "source": [
    "#11\n",
    "nome_usuario = input(\"Informe seu nome: \").strip()\n",
    "\n",
    "print(f\"Seja bem-vindo(a), {nome_usuario}!\")\n"
   ]
  },
  {
   "cell_type": "code",
   "execution_count": 12,
   "id": "0f03741d",
   "metadata": {},
   "outputs": [
    {
     "name": "stdout",
     "output_type": "stream",
     "text": [
      "Velocidade média: 100 km/h\n"
     ]
    }
   ],
   "source": [
    "#12\n",
    "meio_transporte = input(\"Selecione um meio de transporte (carro, bicicleta, a pé): \").strip()\n",
    "\n",
    "if meio_transporte == \"carro\":\n",
    "    print(\"Velocidade média: 100 km/h\")\n",
    "elif meio_transporte == \"bicicleta\":\n",
    "    print(\"Velocidade média: 20 km/h\")\n",
    "elif meio_transporte == \"a pé\":\n",
    "    print(\"Velocidade média: 5 km/h\")\n",
    "else:\n",
    "    print(\"Meio de transporte inválido.\")\n"
   ]
  },
  {
   "cell_type": "code",
   "execution_count": 13,
   "id": "bb64c052",
   "metadata": {},
   "outputs": [
    {
     "name": "stdout",
     "output_type": "stream",
     "text": [
      "A estação do ano é: Outono\n"
     ]
    }
   ],
   "source": [
    "#13\n",
    "numero_mes = int(input(\"Insira o número do mês (1 a 12): \"))\n",
    "\n",
    "if numero_mes in [12, 1, 2]:\n",
    "    periodo_ano = \"Verão\"\n",
    "elif numero_mes in [3, 4, 5]:\n",
    "    periodo_ano = \"Outono\"\n",
    "elif numero_mes in [6, 7, 8]:\n",
    "    periodo_ano = \"Inverno\"\n",
    "elif numero_mes in [9, 10, 11]:\n",
    "    periodo_ano = \"Primavera\"\n",
    "else:\n",
    "    periodo_ano = \"Mês inválido\"\n",
    "\n",
    "print(f\"A estação do ano é: {periodo_ano}\")\n"
   ]
  },
  {
   "cell_type": "code",
   "execution_count": 14,
   "id": "84bd8de3",
   "metadata": {},
   "outputs": [
    {
     "name": "stdout",
     "output_type": "stream",
     "text": [
      "A soma dos dois valores não é maior que 100.\n"
     ]
    }
   ],
   "source": [
    "#14\n",
    "valor_x = float(input(\"Insira o primeiro valor: \"))\n",
    "valor_y = float(input(\"Insira o segundo valor: \"))\n",
    "\n",
    "total_soma = valor_x + valor_y\n",
    "\n",
    "if total_soma > 100:\n",
    "    print(\"A soma dos dois valores é maior que 100.\")\n",
    "else:\n",
    "    print(\"A soma dos dois valores não é maior que 100.\")\n"
   ]
  },
  {
   "cell_type": "code",
   "execution_count": 15,
   "id": "a4ce4f6d",
   "metadata": {},
   "outputs": [
    {
     "name": "stdout",
     "output_type": "stream",
     "text": [
      "Você é um adulto.\n"
     ]
    }
   ],
   "source": [
    "#15\n",
    "anos_pessoa = int(input(\"Informe sua idade: \"))\n",
    "\n",
    "if 13 <= anos_pessoa <= 17:\n",
    "    print(\"Você é um(a) adolescente.\")\n",
    "else:\n",
    "    print(\"Você é um adulto.\")\n"
   ]
  },
  {
   "cell_type": "code",
   "execution_count": 16,
   "id": "0ef0ab10",
   "metadata": {},
   "outputs": [
    {
     "name": "stdout",
     "output_type": "stream",
     "text": [
      "O preço do gasolina é R$ 5.79 por litro.\n"
     ]
    }
   ],
   "source": [
    "#16\n",
    "tipo_combustivel = input(\"Selecione o tipo de combustível (gasolina, etanol, diesel): \").strip()\n",
    "\n",
    "valores_combustivel = {\n",
    "    \"gasolina\": 5.79,\n",
    "    \"etanol\": 4.29,\n",
    "    \"diesel\": 6.39\n",
    "}\n",
    "\n",
    "if tipo_combustivel in valores_combustivel:\n",
    "    print(f\"O preço do {tipo_combustivel} é R$ {valores_combustivel[tipo_combustivel]:.2f} por litro.\")\n",
    "else:\n",
    "    print(\"Tipo de combustível inválido. Tente novamente.\")\n"
   ]
  },
  {
   "cell_type": "code",
   "execution_count": 17,
   "id": "30710851",
   "metadata": {},
   "outputs": [
    {
     "name": "stdout",
     "output_type": "stream",
     "text": [
      "Soma: 11.0\n",
      "Subtração: -7.0\n",
      "Multiplicação: 18.0\n",
      "Divisão: 0.2222222222222222\n"
     ]
    }
   ],
   "source": [
    "#17\n",
    "primeiro_numero = float(input(\"Insira o primeiro número: \"))\n",
    "segundo_numero = float(input(\"Insira o segundo número: \"))\n",
    "\n",
    "resultado_soma = primeiro_numero + segundo_numero\n",
    "resultado_subtracao = primeiro_numero - segundo_numero\n",
    "resultado_multiplicacao = primeiro_numero * segundo_numero\n",
    "\n",
    "if segundo_numero != 0:\n",
    "    resultado_divisao = primeiro_numero / segundo_numero\n",
    "    print(f\"Soma: {resultado_soma}\")\n",
    "    print(f\"Subtração: {resultado_subtracao}\")\n",
    "    print(f\"Multiplicação: {resultado_multiplicacao}\")\n",
    "    print(f\"Divisão: {resultado_divisao}\")\n",
    "else:\n",
    "    print(f\"Soma: {resultado_soma}\")\n",
    "    print(f\"Subtração: {resultado_subtracao}\")\n",
    "    print(f\"Multiplicação: {resultado_multiplicacao}\")\n",
    "    print(\"Divisão: Erro - divisão por zero não é permitida.\")\n"
   ]
  },
  {
   "cell_type": "code",
   "execution_count": 18,
   "id": "bafbf2c8",
   "metadata": {},
   "outputs": [
    {
     "name": "stdout",
     "output_type": "stream",
     "text": [
      "Todos os valores são positivos.\n"
     ]
    }
   ],
   "source": [
    "#18\n",
    "valor_1 = float(input(\"Insira o primeiro valor: \"))\n",
    "valor_2 = float(input(\"Insira o segundo valor: \"))\n",
    "valor_3 = float(input(\"Insira o terceiro valor: \"))\n",
    "\n",
    "if valor_1 > 0 and valor_2 > 0 and valor_3 > 0:\n",
    "    print(\"Todos os valores são positivos.\")\n",
    "else:\n",
    "    print(\"Nem todos os valores são positivos.\")\n"
   ]
  },
  {
   "cell_type": "code",
   "execution_count": 19,
   "id": "38bc19bf",
   "metadata": {},
   "outputs": [
    {
     "name": "stdout",
     "output_type": "stream",
     "text": [
      "A fruta não é uma maçã.\n"
     ]
    }
   ],
   "source": [
    "#19\n",
    "nome_fruta = input(\"Informe o nome de uma fruta:\")\n",
    "\n",
    "if nome_fruta == \"maçã\":\n",
    "    print(\"A fruta é uma maçã.\")\n",
    "else:\n",
    "    print(\"A fruta não é uma maçã.\")\n"
   ]
  },
  {
   "cell_type": "code",
   "execution_count": 20,
   "id": "ec46c18f",
   "metadata": {},
   "outputs": [
    {
     "name": "stdout",
     "output_type": "stream",
     "text": [
      "45.0°C é igual a 113.0°F\n"
     ]
    }
   ],
   "source": [
    "#20\n",
    "temperatura_celsius = float(input(\"Insira a temperatura em graus Celsius: \"))\n",
    "\n",
    "temperatura_fahrenheit = (temperatura_celsius * 9/5) + 32\n",
    "\n",
    "print(f\"{temperatura_celsius:.1f}°C é igual a {temperatura_fahrenheit:.1f}°F\")\n"
   ]
  },
  {
   "cell_type": "code",
   "execution_count": 21,
   "id": "81f59b19",
   "metadata": {},
   "outputs": [
    {
     "name": "stdout",
     "output_type": "stream",
     "text": [
      "O valor é menor que 10.\n"
     ]
    }
   ],
   "source": [
    "#21\n",
    "valor_comparacao = float(input(\"Insira um valor: \"))\n",
    "\n",
    "if valor_comparacao > 10:\n",
    "    print(\"O valor é maior que 10.\")\n",
    "elif valor_comparacao < 10:\n",
    "    print(\"O valor é menor que 10.\")\n",
    "else:\n",
    "    print(\"O valor é igual a 10.\")\n"
   ]
  },
  {
   "cell_type": "code",
   "execution_count": 22,
   "id": "f52d8f35",
   "metadata": {},
   "outputs": [
    {
     "name": "stdout",
     "output_type": "stream",
     "text": [
      "O primeiro valor não é maior que o segundo.\n"
     ]
    }
   ],
   "source": [
    "#22\n",
    "primeiro_valor = float(input(\"Insira o primeiro valor: \"))\n",
    "segundo_valor = float(input(\"Insira o segundo valor: \"))\n",
    "\n",
    "if primeiro_valor > segundo_valor:\n",
    "    print(\"O primeiro valor é maior que o segundo.\")\n",
    "else:\n",
    "    print(\"O primeiro valor não é maior que o segundo.\")\n"
   ]
  },
  {
   "cell_type": "code",
   "execution_count": 23,
   "id": "5ba4f90d",
   "metadata": {},
   "outputs": [
    {
     "name": "stdout",
     "output_type": "stream",
     "text": [
      "A palavra é Python.\n"
     ]
    }
   ],
   "source": [
    "#23\n",
    "texto_usuario = input(\"Insira uma palavra: \")\n",
    "\n",
    "if texto_usuario == \"python\":\n",
    "    print(\"A palavra é Python.\")\n",
    "else:\n",
    "    print(\"A palavra não é Python.\")\n"
   ]
  },
  {
   "cell_type": "code",
   "execution_count": 24,
   "id": "df16f006",
   "metadata": {},
   "outputs": [
    {
     "name": "stdout",
     "output_type": "stream",
     "text": [
      "A cidade é a capital do Brasil.\n"
     ]
    }
   ],
   "source": [
    "#24\n",
    "nome_cidade = input(\"Informe o nome de uma cidade:\")\n",
    "\n",
    "if nome_cidade == \"brasilia\":\n",
    "    print(\"A cidade é a capital do Brasil.\")\n",
    "else:\n",
    "    print(\"A cidade não é a capital do Brasil.\")\n"
   ]
  },
  {
   "cell_type": "code",
   "execution_count": 25,
   "id": "5caf9f87",
   "metadata": {},
   "outputs": [
    {
     "name": "stdout",
     "output_type": "stream",
     "text": [
      "O valor está entre 10 e 15.\n"
     ]
    }
   ],
   "source": [
    "#25\n",
    "valor_intervalo = int(input(\"Insira um valor de 0 a 20: \"))\n",
    "\n",
    "if 10 <= valor_intervalo <= 15:\n",
    "    print(\"O valor está entre 10 e 15.\")\n",
    "else:\n",
    "    print(\"O valor não está entre 10 e 15.\")\n"
   ]
  },
  {
   "cell_type": "code",
   "execution_count": 26,
   "id": "055a8e18",
   "metadata": {},
   "outputs": [
    {
     "name": "stdout",
     "output_type": "stream",
     "text": [
      "Ambos os valores são múltiplos de 5.\n"
     ]
    }
   ],
   "source": [
    "#26\n",
    "valor_a = int(input(\"Insira o primeiro valor: \"))\n",
    "valor_b = int(input(\"Insira o segundo valor: \"))\n",
    "\n",
    "if valor_a % 5 == 0 and valor_b % 5 == 0:\n",
    "    print(\"Ambos os valores são múltiplos de 5.\")\n",
    "else:\n",
    "    print(\"Nenhum dos valores são múltiplos de 5.\")\n"
   ]
  },
  {
   "cell_type": "code",
   "execution_count": 27,
   "id": "4105ae05",
   "metadata": {},
   "outputs": [
    {
     "name": "stdout",
     "output_type": "stream",
     "text": [
      "O maior valor inserido é: 9.0\n"
     ]
    }
   ],
   "source": [
    "#27\n",
    "primeiro_valor = float(input(\"Insira o primeiro valor: \"))\n",
    "segundo_valor = float(input(\"Insira o segundo valor: \"))\n",
    "terceiro_valor = float(input(\"Insira o terceiro valor: \"))\n",
    "\n",
    "maior_valor = max(primeiro_valor, segundo_valor, terceiro_valor)\n",
    "\n",
    "print(f\"O maior valor inserido é: {maior_valor}\")\n"
   ]
  },
  {
   "cell_type": "code",
   "execution_count": 28,
   "id": "db67f2e6",
   "metadata": {},
   "outputs": [
    {
     "name": "stdout",
     "output_type": "stream",
     "text": [
      "A palavra tem mais de 5 letras.\n"
     ]
    }
   ],
   "source": [
    "#28\n",
    "texto_entrada = input(\"Insira uma palavra: \")\n",
    "\n",
    "if len(texto_entrada) > 5:\n",
    "    print(\"A palavra tem mais de 5 letras.\")\n",
    "else:\n",
    "    print(\"A palavra tem 5 letras ou menos.\")\n"
   ]
  },
  {
   "cell_type": "code",
   "execution_count": 29,
   "id": "b1fe974c",
   "metadata": {},
   "outputs": [
    {
     "name": "stdout",
     "output_type": "stream",
     "text": [
      "O valor é múltiplo de 3.\n"
     ]
    }
   ],
   "source": [
    "#29\n",
    "valor_teste = int(input(\"Insira um valor: \"))\n",
    "\n",
    "if valor_teste % 3 == 0:\n",
    "    print(\"O valor é múltiplo de 3.\")\n",
    "else:\n",
    "    print(\"O valor não é múltiplo de 3.\")\n"
   ]
  },
  {
   "cell_type": "code",
   "execution_count": 30,
   "id": "5f49d5aa",
   "metadata": {},
   "outputs": [
    {
     "name": "stdout",
     "output_type": "stream",
     "text": [
      "Você pode votar.\n"
     ]
    }
   ],
   "source": [
    "#30\n",
    "anos_eleitor = int(input(\"Informe sua idade: \"))\n",
    "\n",
    "if anos_eleitor >= 16:\n",
    "    print(\"Você pode votar.\")\n",
    "else:\n",
    "    print(\"Você não pode votar.\")\n"
   ]
  },
  {
   "cell_type": "code",
   "execution_count": 31,
   "id": "a5375b1e",
   "metadata": {},
   "outputs": [
    {
     "name": "stdout",
     "output_type": "stream",
     "text": [
      "O valor é igual a 3.\n"
     ]
    }
   ],
   "source": [
    "#31\n",
    "valor_especifico = int(input(\"Insira um valor de 1 a 5: \"))\n",
    "\n",
    "if valor_especifico == 3:\n",
    "    print(\"O valor é igual a 3.\")\n",
    "else:\n",
    "    print(\"O valor não é igual a 3.\")\n"
   ]
  },
  {
   "cell_type": "code",
   "execution_count": 32,
   "id": "e1899f08",
   "metadata": {},
   "outputs": [
    {
     "name": "stdout",
     "output_type": "stream",
     "text": [
      "Preço com 10% de desconto: R$ 40.50\n"
     ]
    }
   ],
   "source": [
    "#33\n",
    "preco_produto = float(input(\"Insira o preço do produto: R$ \"))\n",
    "\n",
    "desconto_aplicado = preco_produto * 0.10\n",
    "preco_final = preco_produto - desconto_aplicado\n",
    "\n",
    "print(f\"Preço com 10% de desconto: R$ {preco_final:.2f}\")\n"
   ]
  },
  {
   "cell_type": "code",
   "execution_count": 33,
   "id": "7faeac11",
   "metadata": {},
   "outputs": [
    {
     "name": "stdout",
     "output_type": "stream",
     "text": [
      "O valor é negativo.\n"
     ]
    }
   ],
   "source": [
    "#34\n",
    "valor_sinal = float(input(\"Insira um valor: \"))\n",
    "\n",
    "if valor_sinal > 0:\n",
    "    print(\"O valor é positivo.\")\n",
    "elif valor_sinal < 0:\n",
    "    print(\"O valor é negativo.\")\n",
    "else:\n",
    "    print(\"O valor é zero.\")\n"
   ]
  },
  {
   "cell_type": "code",
   "execution_count": 34,
   "id": "5568e714",
   "metadata": {},
   "outputs": [
    {
     "name": "stdout",
     "output_type": "stream",
     "text": [
      "A multiplicação dos dois números não é igual a 20.\n"
     ]
    }
   ],
   "source": [
    "#35\n",
    "num1 = float(input(\"Digite o primeiro número: \"))\n",
    "num2 = float(input(\"Digite o segundo número: \"))\n",
    "\n",
    "if num1 * num2 == 20:\n",
    "    print(\"A multiplicação dos dois números é igual a 20.\")\n",
    "else:\n",
    "    print(\"A multiplicação dos dois números não é igual a 20.\")\n"
   ]
  },
  {
   "cell_type": "code",
   "execution_count": 35,
   "id": "abe57f0d",
   "metadata": {},
   "outputs": [
    {
     "name": "stdout",
     "output_type": "stream",
     "text": [
      "O mês correspondente é: Março\n"
     ]
    }
   ],
   "source": [
    "#36\n",
    "numero_mes = int(input(\"Digite um número de 1 a 12: \"))\n",
    "\n",
    "meses = [\n",
    "    \"Janeiro\", \"Fevereiro\", \"Março\", \"Abril\",\n",
    "    \"Maio\", \"Junho\", \"Julho\", \"Agosto\",\n",
    "    \"Setembro\", \"Outubro\", \"Novembro\", \"Dezembro\"\n",
    "]\n",
    "\n",
    "if 1 <= numero_mes <= 12:\n",
    "    print(f\"O mês correspondente é: {meses[numero_mes - 1]}\")\n",
    "else:\n",
    "    print(\"Número inválido. Por favor, digite um número de 1 a 12.\")\n"
   ]
  },
  {
   "cell_type": "code",
   "execution_count": 36,
   "id": "bd48723d",
   "metadata": {},
   "outputs": [
    {
     "name": "stdout",
     "output_type": "stream",
     "text": [
      "O número é múltiplo de 2 ou de 5.\n"
     ]
    }
   ],
   "source": [
    "#37\n",
    "numero = int(input(\"Digite um número: \"))\n",
    "\n",
    "if numero % 2 == 0 or numero % 5 == 0:\n",
    "    print(\"O número é múltiplo de 2 ou de 5.\")\n",
    "else:\n",
    "    print(\"O número não é múltiplo de 2 nem de 5.\")\n"
   ]
  },
  {
   "cell_type": "code",
   "execution_count": 37,
   "id": "39e35350",
   "metadata": {},
   "outputs": [
    {
     "name": "stdout",
     "output_type": "stream",
     "text": [
      "Sua altura é menor que 1.75 metros.\n"
     ]
    }
   ],
   "source": [
    "#38\n",
    "altura = float(input(\"Digite sua altura em metros : \"))\n",
    "\n",
    "if altura > 1.75:\n",
    "    print(\"Sua altura é maior que 1.75 metros.\")\n",
    "elif altura < 1.75:\n",
    "    print(\"Sua altura é menor que 1.75 metros.\")\n",
    "else:\n",
    "    print(\"Sua altura é 1.75.\")\n"
   ]
  },
  {
   "cell_type": "code",
   "execution_count": 38,
   "id": "ca72f67f",
   "metadata": {},
   "outputs": [
    {
     "name": "stdout",
     "output_type": "stream",
     "text": [
      "Acesso permitido.\n"
     ]
    }
   ],
   "source": [
    "#39\n",
    "senha = input(\"Digite a senha: \")\n",
    "\n",
    "if senha == \"1234\":\n",
    "    print(\"Acesso permitido.\")\n",
    "else:\n",
    "    print(\"Senha incorreta.\")\n"
   ]
  },
  {
   "cell_type": "code",
   "execution_count": 39,
   "id": "3fee0e0d",
   "metadata": {},
   "outputs": [
    {
     "name": "stdout",
     "output_type": "stream",
     "text": [
      "Todos os números são iguais.\n"
     ]
    }
   ],
   "source": [
    "#40\n",
    "num1 = float(input(\"Digite o primeiro número: \"))\n",
    "num2 = float(input(\"Digite o segundo número: \"))\n",
    "num3 = float(input(\"Digite o terceiro número: \"))\n",
    "\n",
    "if num1 == num2 == num3:\n",
    "    print(\"Todos os números são iguais.\")\n",
    "else:\n",
    "    print(\"Os números não são todos iguais.\")\n"
   ]
  },
  {
   "cell_type": "code",
   "execution_count": 40,
   "id": "c72802b5",
   "metadata": {},
   "outputs": [
    {
     "name": "stdout",
     "output_type": "stream",
     "text": [
      "Valores de 1 até 65\n",
      "1\n",
      "2\n",
      "3\n",
      "4\n",
      "5\n",
      "6\n",
      "7\n",
      "8\n",
      "9\n",
      "10\n",
      "11\n",
      "12\n",
      "13\n",
      "14\n",
      "15\n",
      "16\n",
      "17\n",
      "18\n",
      "19\n",
      "20\n",
      "21\n",
      "22\n",
      "23\n",
      "24\n",
      "25\n",
      "26\n",
      "27\n",
      "28\n",
      "29\n",
      "30\n",
      "31\n",
      "32\n",
      "33\n",
      "34\n",
      "35\n",
      "36\n",
      "37\n",
      "38\n",
      "39\n",
      "40\n",
      "41\n",
      "42\n",
      "43\n",
      "44\n",
      "45\n",
      "46\n",
      "47\n",
      "48\n",
      "49\n",
      "50\n",
      "51\n",
      "52\n",
      "53\n",
      "54\n",
      "55\n",
      "56\n",
      "57\n",
      "58\n",
      "59\n",
      "60\n",
      "61\n",
      "62\n",
      "63\n",
      "64\n",
      "65\n"
     ]
    }
   ],
   "source": [
    "#41\n",
    "limite_superior = int(input(\"Insira um valor inteiro positivo: \"))\n",
    "\n",
    "if limite_superior > 0:\n",
    "    print(\"Valores de 1 até\", limite_superior)\n",
    "    for contador in range(1, limite_superior + 1):\n",
    "        print(contador)\n",
    "else:\n",
    "    print(\"Valor inválido. Por favor, insira um valor inteiro positivo.\")\n"
   ]
  },
  {
   "cell_type": "code",
   "execution_count": 41,
   "id": "98ea05b8",
   "metadata": {},
   "outputs": [
    {
     "name": "stdout",
     "output_type": "stream",
     "text": [
      "A soma dos 5 valores é: 248\n"
     ]
    }
   ],
   "source": [
    "#42\n",
    "total_soma = 0\n",
    "\n",
    "for contador in range(1, 6):\n",
    "    valor_entrada = int(input(f\"Insira o {contador}º valor inteiro: \"))\n",
    "    total_soma += valor_entrada\n",
    "\n",
    "print(f\"A soma dos 5 valores é: {total_soma}\")\n"
   ]
  },
  {
   "cell_type": "code",
   "execution_count": 42,
   "id": "696df720",
   "metadata": {},
   "outputs": [
    {
     "name": "stdout",
     "output_type": "stream",
     "text": [
      "1: eu amo pedro lucas\n",
      "2: eu amo pedro lucas\n",
      "3: eu amo pedro lucas\n",
      "4: eu amo pedro lucas\n",
      "5: eu amo pedro lucas\n",
      "6: eu amo pedro lucas\n"
     ]
    }
   ],
   "source": [
    "#43\n",
    "quantidade_repeticoes = int(input(\"Quantas vezes você quer que a mensagem seja exibida? \"))\n",
    "\n",
    "texto_mensagem = input(\"Insira a mensagem que deseja exibir: \")\n",
    "\n",
    "for iteracao in range(quantidade_repeticoes):\n",
    "    print(f\"{iteracao+1}: {texto_mensagem}\")\n"
   ]
  },
  {
   "cell_type": "code",
   "execution_count": 43,
   "id": "41bdc4b5",
   "metadata": {},
   "outputs": [
    {
     "name": "stdout",
     "output_type": "stream",
     "text": [
      "Valores pares inseridos:\n",
      "54\n",
      "432\n",
      "56\n",
      "234\n",
      "3456\n",
      "534\n",
      "1234\n"
     ]
    }
   ],
   "source": [
    "#44\n",
    "valores_pares = []\n",
    "\n",
    "for contador in range(1, 11):\n",
    "    valor_entrada = int(input(f\"Insira o {contador}º valor: \"))\n",
    "    if valor_entrada % 2 == 0:\n",
    "        valores_pares.append(valor_entrada)\n",
    "\n",
    "print(\"Valores pares inseridos:\")\n",
    "for valor_par in valores_pares:\n",
    "    print(valor_par)\n"
   ]
  },
  {
   "cell_type": "code",
   "execution_count": 44,
   "id": "92c3a5d7",
   "metadata": {},
   "outputs": [
    {
     "name": "stdout",
     "output_type": "stream",
     "text": [
      "O maior valor inserido foi: 876\n"
     ]
    }
   ],
   "source": [
    "#45\n",
    "lista_valores = []\n",
    "\n",
    "for contador in range(1, 6):\n",
    "    valor_entrada = int(input(f\"Insira o {contador}º valor: \"))\n",
    "    lista_valores.append(valor_entrada)\n",
    "\n",
    "maior_valor = max(lista_valores)\n",
    "\n",
    "print(f\"O maior valor inserido foi: {maior_valor}\")\n"
   ]
  },
  {
   "cell_type": "code",
   "execution_count": 45,
   "id": "eb5048d0",
   "metadata": {},
   "outputs": [
    {
     "name": "stdout",
     "output_type": "stream",
     "text": [
      "A média dos valores inseridos é: 36460.30\n"
     ]
    }
   ],
   "source": [
    "#46\n",
    "soma_total = 0\n",
    "\n",
    "for contador in range(1, 11):\n",
    "    valor_entrada = float(input(f\"Insira o {contador}º valor: \"))\n",
    "    soma_total += valor_entrada\n",
    "\n",
    "media_calculada = soma_total / 10\n",
    "\n",
    "print(f\"A média dos valores inseridos é: {media_calculada:.2f}\")\n"
   ]
  },
  {
   "cell_type": "code",
   "execution_count": 46,
   "id": "2d5f1a8b",
   "metadata": {},
   "outputs": [
    {
     "name": "stdout",
     "output_type": "stream",
     "text": [
      "Tabuada do 345:\n",
      "345 x 1 = 345\n",
      "345 x 2 = 690\n",
      "345 x 3 = 1035\n",
      "345 x 4 = 1380\n",
      "345 x 5 = 1725\n",
      "345 x 6 = 2070\n",
      "345 x 7 = 2415\n",
      "345 x 8 = 2760\n",
      "345 x 9 = 3105\n",
      "345 x 10 = 3450\n"
     ]
    }
   ],
   "source": [
    "#47\n",
    "base_tabuada = int(input(\"Insira um valor para ver a tabuada: \"))\n",
    "\n",
    "print(f\"Tabuada do {base_tabuada}:\")\n",
    "for multiplicador in range(1, 11):\n",
    "    resultado_calculo = base_tabuada * multiplicador\n",
    "    print(f\"{base_tabuada} x {multiplicador} = {resultado_calculo}\")\n"
   ]
  },
  {
   "cell_type": "code",
   "execution_count": 47,
   "id": "a4de0b93",
   "metadata": {},
   "outputs": [
    {
     "name": "stdout",
     "output_type": "stream",
     "text": [
      "t\n",
      "e\n",
      "s\n",
      "t\n",
      "e\n"
     ]
    }
   ],
   "source": [
    "#48\n",
    "texto_entrada = input(\"Insira uma palavra: \")\n",
    "\n",
    "for caractere in texto_entrada:\n",
    "    print(caractere)\n"
   ]
  },
  {
   "cell_type": "code",
   "execution_count": 48,
   "id": "498f4317",
   "metadata": {},
   "outputs": [
    {
     "name": "stdout",
     "output_type": "stream",
     "text": [
      "Quantidade de valores maiores que 10: 7\n"
     ]
    }
   ],
   "source": [
    "#49\n",
    "quantidade_maiores = 0\n",
    "\n",
    "for iteracao in range(1, 8):\n",
    "    valor_entrada = float(input(f\"Insira o {iteracao}º valor: \"))\n",
    "    if valor_entrada > 10:\n",
    "        quantidade_maiores += 1\n",
    "\n",
    "print(f\"Quantidade de valores maiores que 10: {quantidade_maiores}\")\n"
   ]
  },
  {
   "cell_type": "code",
   "execution_count": 49,
   "id": "d8e6e6f2",
   "metadata": {},
   "outputs": [
    {
     "name": "stdout",
     "output_type": "stream",
     "text": [
      "Valores de 35 até 1 (decrescente):\n",
      "35\n",
      "34\n",
      "33\n",
      "32\n",
      "31\n",
      "30\n",
      "29\n",
      "28\n",
      "27\n",
      "26\n",
      "25\n",
      "24\n",
      "23\n",
      "22\n",
      "21\n",
      "20\n",
      "19\n",
      "18\n",
      "17\n",
      "16\n",
      "15\n",
      "14\n",
      "13\n",
      "12\n",
      "11\n",
      "10\n",
      "9\n",
      "8\n",
      "7\n",
      "6\n",
      "5\n",
      "4\n",
      "3\n",
      "2\n",
      "1\n"
     ]
    }
   ],
   "source": [
    "#50\n",
    "limite_inicial = int(input(\"Insira um valor inteiro positivo: \"))\n",
    "\n",
    "if limite_inicial > 0:\n",
    "    print(f\"Valores de {limite_inicial} até 1 (decrescente):\")\n",
    "    for contador in range(limite_inicial, 0, -1):\n",
    "        print(contador)\n",
    "else:\n",
    "    print(\"Valor inválido. Por favor, insira um valor inteiro positivo.\")\n"
   ]
  },
  {
   "cell_type": "code",
   "execution_count": 50,
   "id": "ca8bad3d",
   "metadata": {},
   "outputs": [
    {
     "name": "stdout",
     "output_type": "stream",
     "text": [
      "A soma dos valores inseridos é: 0\n"
     ]
    }
   ],
   "source": [
    "#51\n",
    "total_acumulado = 0\n",
    "\n",
    "while True:\n",
    "    valor_entrada = float(input(\"Insira um valor (ou 0 para encerrar): \"))\n",
    "    if valor_entrada == 0:\n",
    "        break\n",
    "    total_acumulado += valor_entrada\n",
    "\n",
    "print(f\"A soma dos valores inseridos é: {total_acumulado}\")\n"
   ]
  },
  {
   "cell_type": "code",
   "execution_count": 51,
   "id": "691df244",
   "metadata": {},
   "outputs": [
    {
     "name": "stdout",
     "output_type": "stream",
     "text": [
      "Senha incorreta. Tente novamente.\n",
      "Senha incorreta. Tente novamente.\n",
      "Senha incorreta. Tente novamente.\n",
      "Senha correta. Acesso permitido!\n"
     ]
    }
   ],
   "source": [
    "#52\n",
    "while True:\n",
    "    senha_usuario = input(\"Insira a senha: \")\n",
    "    if senha_usuario == \"1234\":\n",
    "        print(\"Senha correta. Acesso permitido!\")\n",
    "        break\n",
    "    else:\n",
    "        print(\"Senha incorreta. Tente novamente.\")\n"
   ]
  },
  {
   "cell_type": "code",
   "execution_count": 52,
   "id": "51fd208a",
   "metadata": {},
   "outputs": [
    {
     "name": "stdout",
     "output_type": "stream",
     "text": [
      "Contagem regressiva de 56 até 1:\n",
      "56\n",
      "55\n",
      "54\n",
      "53\n",
      "52\n",
      "51\n",
      "50\n",
      "49\n",
      "48\n",
      "47\n",
      "46\n",
      "45\n",
      "44\n",
      "43\n",
      "42\n",
      "41\n",
      "40\n",
      "39\n",
      "38\n",
      "37\n",
      "36\n",
      "35\n",
      "34\n",
      "33\n",
      "32\n",
      "31\n",
      "30\n",
      "29\n",
      "28\n",
      "27\n",
      "26\n",
      "25\n",
      "24\n",
      "23\n",
      "22\n",
      "21\n",
      "20\n",
      "19\n",
      "18\n",
      "17\n",
      "16\n",
      "15\n",
      "14\n",
      "13\n",
      "12\n",
      "11\n",
      "10\n",
      "9\n",
      "8\n",
      "7\n",
      "6\n",
      "5\n",
      "4\n",
      "3\n",
      "2\n",
      "1\n"
     ]
    }
   ],
   "source": [
    "#53\n",
    "numero = int(input(\"Digite um número para a contagem regressiva: \"))\n",
    "\n",
    "if numero > 0:\n",
    "    print(f\"Contagem regressiva de {numero} até 1:\")\n",
    "    for i in range(numero, 0, -1):\n",
    "        print(i)\n",
    "else:\n",
    "    print(\"Digite um número inteiro positivo.\")\n"
   ]
  },
  {
   "cell_type": "code",
   "execution_count": 53,
   "id": "a7ebaa6a",
   "metadata": {},
   "outputs": [
    {
     "name": "stdout",
     "output_type": "stream",
     "text": [
      "Número negativo inserido. Encerrando o programa.\n"
     ]
    }
   ],
   "source": [
    "#54\n",
    "while True:\n",
    "    numero = float(input(\"Digite um número (negativo para encerrar): \"))\n",
    "    if numero < 0:\n",
    "        print(\"Número negativo inserido. Encerrando o programa.\")\n",
    "        break\n"
   ]
  },
  {
   "cell_type": "code",
   "execution_count": 54,
   "id": "593b889e",
   "metadata": {},
   "outputs": [
    {
     "name": "stdout",
     "output_type": "stream",
     "text": [
      "Número válido inserido. Encerrando o programa.\n"
     ]
    }
   ],
   "source": [
    "#55\n",
    "while True:\n",
    "    numero = float(input(\"Digite um número maior que 100: \"))\n",
    "    if numero > 100:\n",
    "        print(\"Número válido inserido. Encerrando o programa.\")\n",
    "        break\n",
    "    else:\n",
    "        print(\"Número inválido. Tente novamente.\")\n"
   ]
  },
  {
   "cell_type": "code",
   "execution_count": 55,
   "id": "d6432513",
   "metadata": {},
   "outputs": [
    {
     "name": "stdout",
     "output_type": "stream",
     "text": [
      "1: eu amo pedro lucas\n",
      "2: eu amo pedro lucas\n",
      "3: eu amo pedro lucas\n",
      "4: eu amo pedro lucas\n",
      "5: eu amo pedro lucas\n",
      "6: eu amo pedro lucas\n",
      "7: eu amo pedro lucas\n",
      "8: eu amo pedro lucas\n",
      "9: eu amo pedro lucas\n",
      "10: eu amo pedro lucas\n",
      "11: eu amo pedro lucas\n",
      "12: eu amo pedro lucas\n",
      "13: eu amo pedro lucas\n"
     ]
    }
   ],
   "source": [
    "#56\n",
    "quantidade = int(input(\"Quantas vezes deseja exibir a mensagem? \"))\n",
    "mensagem = input(\"Digite a mensagem: \")\n",
    "\n",
    "contador = 0\n",
    "\n",
    "while contador < quantidade:\n",
    "    print(f\"{contador + 1}: {mensagem}\")\n",
    "    contador += 1\n"
   ]
  },
  {
   "cell_type": "code",
   "execution_count": 56,
   "id": "4bbd1756",
   "metadata": {},
   "outputs": [
    {
     "name": "stdout",
     "output_type": "stream",
     "text": [
      "Errado! Tente novamente.\n",
      "Errado! Tente novamente.\n",
      "Errado! Tente novamente.\n",
      "Parabéns! Você adivinhou o número corretamente!\n"
     ]
    }
   ],
   "source": [
    "#57\n",
    "import random\n",
    "\n",
    "numero_secreto = random.randint(1, 10)\n",
    "\n",
    "palpite = None\n",
    "\n",
    "while palpite != numero_secreto:\n",
    "    palpite = int(input(\"Adivinhe o número secreto (entre 1 e 10): \"))\n",
    "    if palpite != numero_secreto:\n",
    "        print(\"Errado! Tente novamente.\")\n",
    "\n",
    "print(\"Parabéns! Você adivinhou o número corretamente!\")\n"
   ]
  },
  {
   "cell_type": "code",
   "execution_count": 57,
   "id": "8ac0d00f",
   "metadata": {},
   "outputs": [
    {
     "name": "stdout",
     "output_type": "stream",
     "text": [
      "Encerrando o programa.\n"
     ]
    }
   ],
   "source": [
    "#58\n",
    "while True:\n",
    "    palavra = input(\"Digite uma palavra (ou 'sair' para encerrar): \")\n",
    "    if palavra.lower().strip() == \"sair\":\n",
    "        print(\"Encerrando o programa.\")\n",
    "        break\n"
   ]
  },
  {
   "cell_type": "code",
   "execution_count": 58,
   "id": "4d25fff6",
   "metadata": {},
   "outputs": [
    {
     "name": "stdout",
     "output_type": "stream",
     "text": [
      "O primeiro número não é maior que o segundo. Tente novamente.\n",
      "O primeiro número é maior que o segundo. Encerrando o programa.\n"
     ]
    }
   ],
   "source": [
    "#59\n",
    "while True:\n",
    "    num1 = float(input(\"Digite o primeiro número: \"))\n",
    "    num2 = float(input(\"Digite o segundo número: \"))\n",
    "    \n",
    "    if num1 > num2:\n",
    "        print(\"O primeiro número é maior que o segundo. Encerrando o programa.\")\n",
    "        break\n",
    "    else:\n",
    "        print(\"O primeiro número não é maior que o segundo. Tente novamente.\")\n"
   ]
  },
  {
   "cell_type": "code",
   "execution_count": 59,
   "id": "b0d27431",
   "metadata": {},
   "outputs": [
    {
     "name": "stdout",
     "output_type": "stream",
     "text": [
      "Divisores de 1:\n",
      "1\n"
     ]
    }
   ],
   "source": [
    "#60\n",
    "numero = int(input(\"Digite um número inteiro positivo: \"))\n",
    "\n",
    "if numero > 0:\n",
    "    print(f\"Divisores de {numero}:\")\n",
    "    for i in range(1, numero + 1):\n",
    "        if numero % i == 0:\n",
    "            print(i)\n",
    "else:\n",
    "    print(\"Por favor, digite um número inteiro positivo.\")\n"
   ]
  },
  {
   "cell_type": "code",
   "execution_count": 60,
   "id": "d8e7824a",
   "metadata": {},
   "outputs": [
    {
     "name": "stdout",
     "output_type": "stream",
     "text": [
      "1\n",
      "2\n",
      "3\n",
      "4\n",
      "5\n"
     ]
    }
   ],
   "source": [
    "#61\n",
    "lista_valores = [1, 2, 3, 4, 5]\n",
    "\n",
    "for valor in lista_valores:\n",
    "    print(valor)\n"
   ]
  },
  {
   "cell_type": "code",
   "execution_count": 61,
   "id": "881f2d4d",
   "metadata": {},
   "outputs": [
    {
     "name": "stdout",
     "output_type": "stream",
     "text": [
      "Lista de nomes: ['giovanna', 'pedro', 'fabiana']\n"
     ]
    }
   ],
   "source": [
    "#62\n",
    "lista_nomes = []\n",
    "\n",
    "for contador in range(1, 4):\n",
    "    nome_pessoa = input(f\"Insira o {contador}º nome: \")\n",
    "    lista_nomes.append(nome_pessoa)\n",
    "\n",
    "print(\"Lista de nomes:\", lista_nomes)\n"
   ]
  },
  {
   "cell_type": "code",
   "execution_count": 62,
   "id": "8be86572",
   "metadata": {},
   "outputs": [
    {
     "name": "stdout",
     "output_type": "stream",
     "text": [
      "A soma dos valores é: 24\n"
     ]
    }
   ],
   "source": [
    "#63\n",
    "valores_lista = []\n",
    "\n",
    "for contador in range(1, 6):\n",
    "    valor_entrada = int(input(f\"Insira o {contador}º valor: \"))\n",
    "    valores_lista.append(valor_entrada)\n",
    "\n",
    "soma_total = sum(valores_lista)\n",
    "\n",
    "print(f\"A soma dos valores é: {soma_total}\")\n"
   ]
  },
  {
   "cell_type": "code",
   "execution_count": 63,
   "id": "c5020243",
   "metadata": {},
   "outputs": [
    {
     "name": "stdout",
     "output_type": "stream",
     "text": [
      "Lista completa: [53, 9, 94, 100, 8, 64, 77, 28, 50, 91]\n",
      "Valores múltiplos de 3: [9]\n"
     ]
    }
   ],
   "source": [
    "#64\n",
    "import random\n",
    "\n",
    "valores_aleatorios = [random.randint(1, 100) for _ in range(10)]\n",
    "\n",
    "print(\"Lista completa:\", valores_aleatorios)\n",
    "\n",
    "multiplos_tres = [valor for valor in valores_aleatorios if valor % 3 == 0]\n",
    "\n",
    "print(\"Valores múltiplos de 3:\", multiplos_tres)\n"
   ]
  },
  {
   "cell_type": "code",
   "execution_count": 64,
   "id": "7a16613b",
   "metadata": {},
   "outputs": [
    {
     "name": "stdout",
     "output_type": "stream",
     "text": [
      "O maior valor é: 6\n",
      "O menor valor é: 1\n"
     ]
    }
   ],
   "source": [
    "#65\n",
    "lista_valores = []\n",
    "\n",
    "for contador in range(1, 6):\n",
    "    valor_entrada = int(input(f\"Insira o {contador}º valor: \"))\n",
    "    lista_valores.append(valor_entrada)\n",
    "\n",
    "maior_valor = max(lista_valores)\n",
    "menor_valor = min(lista_valores)\n",
    "\n",
    "print(f\"O maior valor é: {maior_valor}\")\n",
    "print(f\"O menor valor é: {menor_valor}\")\n"
   ]
  },
  {
   "cell_type": "code",
   "execution_count": 65,
   "id": "5d51155d",
   "metadata": {},
   "outputs": [
    {
     "name": "stdout",
     "output_type": "stream",
     "text": [
      "\n",
      "Menu:\n",
      "1 - Cadastrar nome\n",
      "2 - Atualizar nome\n",
      "3 - Excluir nome\n",
      "4 - Listar todos os cadastrados\n",
      "Qualquer outra tecla para sair.\n",
      "Nenhum nome cadastrado.\n",
      "Encerrando o programa.\n"
     ]
    }
   ],
   "source": [
    "#66\n",
    "lista_cadastros = []\n",
    "\n",
    "def cadastrar_pessoa():\n",
    "    nome_pessoa = input(\"Insira o nome para cadastrar: \").strip()\n",
    "    lista_cadastros.append(nome_pessoa)\n",
    "    print(f\"Nome '{nome_pessoa}' cadastrado com sucesso.\")\n",
    "\n",
    "def atualizar_pessoa():\n",
    "    if not lista_cadastros:\n",
    "        print(\"Nenhum nome cadastrado para atualizar.\")\n",
    "        return\n",
    "    listar_pessoas()\n",
    "    nome_antigo = input(\"Insira o nome que deseja atualizar: \").strip()\n",
    "    if nome_antigo in lista_cadastros:\n",
    "        novo_nome = input(\"Insira o novo nome: \").strip()\n",
    "        indice = lista_cadastros.index(nome_antigo)\n",
    "        lista_cadastros[indice] = novo_nome\n",
    "        print(f\"Nome '{nome_antigo}' atualizado para '{novo_nome}'.\")\n",
    "    else:\n",
    "        print(f\"Nome '{nome_antigo}' não encontrado.\")\n",
    "\n",
    "def excluir_pessoa():\n",
    "    if not lista_cadastros:\n",
    "        print(\"Nenhum nome cadastrado para excluir.\")\n",
    "        return\n",
    "    listar_pessoas()\n",
    "    nome_remover = input(\"Insira o nome que deseja excluir: \").strip()\n",
    "    if nome_remover in lista_cadastros:\n",
    "        lista_cadastros.remove(nome_remover)\n",
    "        print(f\"Nome '{nome_remover}' excluído com sucesso.\")\n",
    "    else:\n",
    "        print(f\"Nome '{nome_remover}' não encontrado.\")\n",
    "\n",
    "def listar_pessoas():\n",
    "    if not lista_cadastros:\n",
    "        print(\"Nenhum nome cadastrado.\")\n",
    "    else:\n",
    "        print(\"Nomes cadastrados:\")\n",
    "        for i, nome in enumerate(lista_cadastros, start=1):\n",
    "            print(f\"{i}. {nome}\")\n",
    "\n",
    "while True:\n",
    "    print(\"\\nMenu:\")\n",
    "    print(\"1 - Cadastrar nome\")\n",
    "    print(\"2 - Atualizar nome\")\n",
    "    print(\"3 - Excluir nome\")\n",
    "    print(\"4 - Listar todos os cadastrados\")\n",
    "    print(\"Qualquer outra tecla para sair.\")\n",
    "    \n",
    "    opcao_escolhida = input(\"Escolha uma opção: \").strip()\n",
    "    \n",
    "    if opcao_escolhida == '1':\n",
    "        cadastrar_pessoa()\n",
    "    elif opcao_escolhida == '2':\n",
    "        atualizar_pessoa()\n",
    "    elif opcao_escolhida == '3':\n",
    "        excluir_pessoa()\n",
    "    elif opcao_escolhida == '4':\n",
    "        listar_pessoas()\n",
    "    else:\n",
    "        print(\"Encerrando o programa.\")\n",
    "        break\n",
    "    \n",
    "    continuar_operacao = input(\"Deseja realizar outra operação? (s/n): \").strip().lower()\n",
    "    if continuar_operacao != 's':\n",
    "        print(\"Encerrando o programa.\")\n",
    "        break\n"
   ]
  },
  {
   "cell_type": "code",
   "execution_count": 66,
   "id": "80a1b3e3",
   "metadata": {},
   "outputs": [
    {
     "name": "stdout",
     "output_type": "stream",
     "text": [
      "\n",
      "\n",
      "  |   |  \n",
      "---------\n",
      "  |   |  \n",
      "---------\n",
      "  |   |  \n",
      "\n",
      "\n",
      "\n",
      "\n",
      "  | X |  \n",
      "---------\n",
      "  |   |  \n",
      "---------\n",
      "  |   |  \n",
      "\n",
      "\n",
      "\n",
      "\n",
      "O | X |  \n",
      "---------\n",
      "  |   |  \n",
      "---------\n",
      "  |   |  \n",
      "\n",
      "\n",
      "\n",
      "\n",
      "O | X |  \n",
      "---------\n",
      "  | X |  \n",
      "---------\n",
      "  |   |  \n",
      "\n",
      "\n",
      "Essa posição já está ocupada! Tente outra.\n",
      "\n",
      "\n",
      "O | X |  \n",
      "---------\n",
      "  | X |  \n",
      "---------\n",
      "  |   |  \n",
      "\n",
      "\n",
      "\n",
      "\n",
      "O | X |  \n",
      "---------\n",
      "  | X |  \n",
      "---------\n",
      "  | O |  \n",
      "\n",
      "\n",
      "Essa posição já está ocupada! Tente outra.\n",
      "\n",
      "\n",
      "O | X |  \n",
      "---------\n",
      "  | X |  \n",
      "---------\n",
      "  | O |  \n",
      "\n",
      "\n",
      "\n",
      "\n",
      "O | X |  \n",
      "---------\n",
      "X | X |  \n",
      "---------\n",
      "  | O |  \n",
      "\n",
      "\n",
      "\n",
      "\n",
      "O | X | O\n",
      "---------\n",
      "X | X |  \n",
      "---------\n",
      "  | O |  \n",
      "\n",
      "\n",
      "\n",
      "\n",
      "O | X | O\n",
      "---------\n",
      "X | X | X\n",
      "---------\n",
      "  | O |  \n",
      "\n",
      "\n",
      "Parabéns! Jogador X venceu!\n"
     ]
    }
   ],
   "source": [
    "#67\n",
    "def exibir_tabuleiro(matriz_jogo):\n",
    "    print(\"\\n\")\n",
    "    for linha in range(3):\n",
    "        print(\" | \".join(matriz_jogo[linha]))\n",
    "        if linha < 2:\n",
    "            print(\"-\" * 9)\n",
    "    print(\"\\n\")\n",
    "\n",
    "def checar_vitoria(matriz_jogo, simbolo_jogador):\n",
    "    # Linha\n",
    "    for linha in matriz_jogo:\n",
    "        if all(posicao == simbolo_jogador for posicao in linha):\n",
    "            return True\n",
    "    # Coluna\n",
    "    for coluna in range(3):\n",
    "        if all(matriz_jogo[linha][coluna] == simbolo_jogador for linha in range(3)):\n",
    "            return True\n",
    "    # Diagonal\n",
    "    if all(matriz_jogo[i][i] == simbolo_jogador for i in range(3)):\n",
    "        return True\n",
    "    if all(matriz_jogo[i][2 - i] == simbolo_jogador for i in range(3)):\n",
    "        return True\n",
    "    return False\n",
    "\n",
    "def matriz_completa(matriz_jogo):\n",
    "    return all(all(posicao != \" \" for posicao in linha) for linha in matriz_jogo)\n",
    "\n",
    "def iniciar_jogo():\n",
    "    matriz_jogo = [[\" \" for _ in range(3)] for _ in range(3)]\n",
    "    jogador_vez = \"X\"\n",
    "\n",
    "    while True:\n",
    "        exibir_tabuleiro(matriz_jogo)\n",
    "        try:\n",
    "            linha_escolhida = int(input(f\"Jogador {jogador_vez}, insira a linha (1-3): \")) - 1\n",
    "            coluna_escolhida = int(input(f\"Jogador {jogador_vez}, insira a coluna (1-3): \")) - 1\n",
    "        except ValueError:\n",
    "            print(\"Por favor, insira números válidos entre 1 e 3.\")\n",
    "            continue\n",
    "        \n",
    "        if linha_escolhida not in range(3) or coluna_escolhida not in range(3):\n",
    "            print(\"Posição inválida! Escolha valores entre 1 e 3.\")\n",
    "            continue\n",
    "        \n",
    "        if matriz_jogo[linha_escolhida][coluna_escolhida] != \" \":\n",
    "            print(\"Essa posição já está ocupada! Tente outra.\")\n",
    "            continue\n",
    "\n",
    "        matriz_jogo[linha_escolhida][coluna_escolhida] = jogador_vez\n",
    "\n",
    "        if checar_vitoria(matriz_jogo, jogador_vez):\n",
    "            exibir_tabuleiro(matriz_jogo)\n",
    "            print(f\"Parabéns! Jogador {jogador_vez} venceu!\")\n",
    "            break\n",
    "\n",
    "        if matriz_completa(matriz_jogo):\n",
    "            exibir_tabuleiro(matriz_jogo)\n",
    "            print(\"Empate! O tabuleiro está cheio.\")\n",
    "            break\n",
    "\n",
    "        jogador_vez = \"O\" if jogador_vez == \"X\" else \"X\"\n",
    "\n",
    "if __name__ == \"__main__\":\n",
    "    iniciar_jogo()\n"
   ]
  }
 ],
 "metadata": {
  "kernelspec": {
   "display_name": "Python 3",
   "language": "python",
   "name": "python3"
  },
  "language_info": {
   "codemirror_mode": {
    "name": "ipython",
    "version": 3
   },
   "file_extension": ".py",
   "mimetype": "text/x-python",
   "name": "python",
   "nbconvert_exporter": "python",
   "pygments_lexer": "ipython3",
   "version": "3.9.6"
  }
 },
 "nbformat": 4,
 "nbformat_minor": 5
}
